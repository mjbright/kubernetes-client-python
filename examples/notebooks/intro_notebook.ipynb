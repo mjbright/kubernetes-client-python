{
 "cells": [
  {
   "cell_type": "markdown",
   "metadata": {},
   "source": [
    "Managing kubernetes objects using common resource operations with the python client\n",
    "-----------------------------------------------------------------------------------------------\n",
    "\n",
    "Some of these operations include;\n",
    "\n",
    "- **`create_xxxx`** : create a resource object. Ex **`create_namespaced_pod`** and **`create_namespaced_deployment`**, for creation of pods and deployments respectively. This performs operations similar to **`kubectl create`**.\n",
    "\n",
    "\n",
    "- **`read_xxxx`** : read the specified resource object. Ex **`read_namespaced_pod`** and **`read_namespaced_deployment`**, to read pods and deployments respectively. This performs operations similar to **`kubectl describe`**.\n",
    "\n",
    "\n",
    "- **`list_xxxx`** : retrieve all resource objects of a specific type. Ex **`list_namespaced_pod`** and **`list_namespaced_deployment`**, to list pods and deployments respectively. This performs operations similar to **`kubectl get`**.\n",
    "\n",
    "\n",
    "- **`patch_xxxx`** : apply a change to a specific field. Ex **`patch_namespaced_pod`** and **`patch_namespaced_deployment`**, to update pods and deployments respectively. This performs operations similar to **`kubectl patch`**, **`kubectl label`**, **`kubectl annotate`** etc.\n",
    "\n",
    "\n",
    "- **`replace_xxxx`** : replacing a resource object will update the resource by replacing the existing spec with the provided one. Ex **`replace_namespaced_pod`** and **`replace_namespaced_deployment`**, to update pods and deployments respectively, by creating new replacements of the entire object. This performs operations similar to **`kubectl rolling-update`**, **`kubectl apply`** and **`kubectl replace`**.\n",
    "\n",
    "\n",
    "- **`delete_xxxx`** : delete a resource. This performs operations similar to **`kubectl delete`**.\n",
    "\n",
    "\n",
    "For Futher information see the Documentation for API Endpoints section in https://github.com/kubernetes-client/python/blob/master/kubernetes/README.md"
   ]
  },
  {
   "cell_type": "code",
   "execution_count": 1,
   "metadata": {},
   "outputs": [],
   "source": [
    "from kubernetes import client, config"
   ]
  },
  {
   "cell_type": "markdown",
   "metadata": {},
   "source": [
    "### Load config from default location."
   ]
  },
  {
   "cell_type": "code",
   "execution_count": 2,
   "metadata": {},
   "outputs": [],
   "source": [
    "config.load_kube_config()"
   ]
  },
  {
   "cell_type": "markdown",
   "metadata": {
    "collapsed": true
   },
   "source": [
    "# Look at api methods avaliable:"
   ]
  },
  {
   "cell_type": "code",
   "execution_count": 3,
   "metadata": {},
   "outputs": [],
   "source": [
    "# Create api instances\n",
    "\n",
    "extensions_v1beta1 = client.ExtensionsV1beta1Api()\n",
    "api_instance = extensions_v1beta1\n",
    "\n",
    "v1 = client.CoreV1Api()"
   ]
  },
  {
   "cell_type": "markdown",
   "metadata": {
    "collapsed": true
   },
   "source": [
    "### Here are some helper methods to list api methods:"
   ]
  },
  {
   "cell_type": "code",
   "execution_count": 4,
   "metadata": {},
   "outputs": [
    {
     "name": "stdout",
     "output_type": "stream",
     "text": [
      "connect_delete_namespaced_pod_proxy\n",
      "connect_delete_namespaced_pod_proxy_with_http_info\n",
      "connect_delete_namespaced_pod_proxy_with_path\n",
      "connect_delete_namespaced_pod_proxy_with_path_with_http_info\n",
      "connect_get_namespaced_pod_attach\n",
      "connect_get_namespaced_pod_attach_with_http_info\n",
      "connect_get_namespaced_pod_exec\n",
      "connect_get_namespaced_pod_exec_with_http_info\n",
      "connect_get_namespaced_pod_portforward\n",
      "connect_get_namespaced_pod_portforward_with_http_info\n",
      "connect_get_namespaced_pod_proxy\n",
      "connect_get_namespaced_pod_proxy_with_http_info\n",
      "connect_get_namespaced_pod_proxy_with_path\n",
      "connect_get_namespaced_pod_proxy_with_path_with_http_info\n",
      "connect_head_namespaced_pod_proxy\n",
      "connect_head_namespaced_pod_proxy_with_http_info\n",
      "connect_head_namespaced_pod_proxy_with_path\n",
      "connect_head_namespaced_pod_proxy_with_path_with_http_info\n",
      "connect_options_namespaced_pod_proxy\n",
      "connect_options_namespaced_pod_proxy_with_http_info\n",
      "connect_options_namespaced_pod_proxy_with_path\n",
      "connect_options_namespaced_pod_proxy_with_path_with_http_info\n",
      "connect_patch_namespaced_pod_proxy\n",
      "connect_patch_namespaced_pod_proxy_with_http_info\n",
      "connect_patch_namespaced_pod_proxy_with_path\n",
      "connect_patch_namespaced_pod_proxy_with_path_with_http_info\n",
      "connect_post_namespaced_pod_attach\n",
      "connect_post_namespaced_pod_attach_with_http_info\n",
      "connect_post_namespaced_pod_exec\n",
      "connect_post_namespaced_pod_exec_with_http_info\n",
      "connect_post_namespaced_pod_portforward\n",
      "connect_post_namespaced_pod_portforward_with_http_info\n",
      "connect_post_namespaced_pod_proxy\n",
      "connect_post_namespaced_pod_proxy_with_http_info\n",
      "connect_post_namespaced_pod_proxy_with_path\n",
      "connect_post_namespaced_pod_proxy_with_path_with_http_info\n",
      "connect_put_namespaced_pod_proxy\n",
      "connect_put_namespaced_pod_proxy_with_http_info\n",
      "connect_put_namespaced_pod_proxy_with_path\n",
      "connect_put_namespaced_pod_proxy_with_path_with_http_info\n",
      "create_namespaced_pod\n",
      "create_namespaced_pod_binding\n",
      "create_namespaced_pod_binding_with_http_info\n",
      "create_namespaced_pod_eviction\n",
      "create_namespaced_pod_eviction_with_http_info\n",
      "create_namespaced_pod_template\n",
      "create_namespaced_pod_template_with_http_info\n",
      "create_namespaced_pod_with_http_info\n",
      "delete_collection_namespaced_pod\n",
      "delete_collection_namespaced_pod_template\n",
      "delete_collection_namespaced_pod_template_with_http_info\n",
      "delete_collection_namespaced_pod_with_http_info\n",
      "delete_namespaced_pod\n",
      "delete_namespaced_pod_template\n",
      "delete_namespaced_pod_template_with_http_info\n",
      "delete_namespaced_pod_with_http_info\n",
      "list_namespaced_pod\n",
      "list_namespaced_pod_template\n",
      "list_namespaced_pod_template_with_http_info\n",
      "list_namespaced_pod_with_http_info\n",
      "list_pod_for_all_namespaces\n",
      "list_pod_for_all_namespaces_with_http_info\n",
      "list_pod_template_for_all_namespaces\n",
      "list_pod_template_for_all_namespaces_with_http_info\n",
      "patch_namespaced_pod\n",
      "patch_namespaced_pod_status\n",
      "patch_namespaced_pod_status_with_http_info\n",
      "patch_namespaced_pod_template\n",
      "patch_namespaced_pod_template_with_http_info\n",
      "patch_namespaced_pod_with_http_info\n",
      "read_namespaced_pod\n",
      "read_namespaced_pod_log\n",
      "read_namespaced_pod_log_with_http_info\n",
      "read_namespaced_pod_status\n",
      "read_namespaced_pod_status_with_http_info\n",
      "read_namespaced_pod_template\n",
      "read_namespaced_pod_template_with_http_info\n",
      "read_namespaced_pod_with_http_info\n",
      "replace_namespaced_pod\n",
      "replace_namespaced_pod_status\n",
      "replace_namespaced_pod_status_with_http_info\n",
      "replace_namespaced_pod_template\n",
      "replace_namespaced_pod_template_with_http_info\n",
      "replace_namespaced_pod_with_http_info\n"
     ]
    }
   ],
   "source": [
    "def list_methods(api):\n",
    "    print(\"\\n\".join( filter( lambda fn: not fn.startswith(\"__\"), dir(api)) ))\n",
    "\n",
    "def list_matching_methods(api, search):\n",
    "    print(\"\\n\".join( filter( lambda fn: (not fn.startswith(\"__\")) and (fn.find(search) != -1), dir(api)) ))\n",
    "\n",
    "#list_methods( api_instance )\n",
    "\n",
    "list_matching_methods(v1, \"pod\")"
   ]
  },
  {
   "cell_type": "markdown",
   "metadata": {},
   "source": [
    "### Create API endpoint instance as well as API resource instances (body and specification)."
   ]
  },
  {
   "cell_type": "markdown",
   "metadata": {},
   "source": [
    "### Fill required object fields (apiVersion, kind, metadata and spec).\n",
    "\n",
    "\n",
    "https://kubernetes.io/docs/concepts/workloads/pods/pod-overview/\n",
    "\n",
    "\n",
    "### Pod Templates\n",
    "\n",
    "See: https://kubernetes.io/docs/concepts/workloads/pods/pod-overview/#pod-templates\n",
    "Pod templates are pod specifications which are included in other objects, such as Replication Controllers, Jobs, and DaemonSets. Controllers use Pod Templates to make actual pods. The sample below is a simple manifest for a Pod which contains a container that prints a message.\n"
   ]
  },
  {
   "cell_type": "code",
   "execution_count": 5,
   "metadata": {},
   "outputs": [],
   "source": [
    "USE_NAMESPACE=\"default\""
   ]
  },
  {
   "cell_type": "code",
   "execution_count": 6,
   "metadata": {},
   "outputs": [],
   "source": [
    "CONTAINER_NAME=\"busybox\"\n",
    "CONTAINER_IMAGE=\"busybox:1.26.1\"\n",
    "CONTAINER_IMAGE_2=\"busybox:1.26.2\"\n",
    "\n",
    "LOOP_ECHO_DATE_CMD=['sh', '-c', 'while true; do echo $(date): Hello from Kubernetes!; sleep 10; done']\n",
    "ECHO_SLEEP_CMD=['sh', '-c', 'echo Hello Kubernetes! && sleep 3600']\n",
    "SLEEP_CMD=['sleep', '3600']\n",
    "\n",
    "# Configure Pod template container\n",
    "container = client.V1Container( name=CONTAINER_NAME, image=CONTAINER_IMAGE, args = LOOP_ECHO_DATE_CMD)\n",
    "\n",
    "template = client.V1PodTemplateSpec(\n",
    "        metadata=client.V1ObjectMeta(name=CONTAINER_NAME, labels={\"app\": CONTAINER_NAME}),\n",
    "        spec=client.V1PodSpec(containers=[container]))\n",
    "\n",
    "# Create the specification of deployment\n",
    "spec = client.ExtensionsV1beta1DeploymentSpec(\n",
    "        replicas=1,\n",
    "        template=template)"
   ]
  },
  {
   "cell_type": "code",
   "execution_count": 7,
   "metadata": {},
   "outputs": [],
   "source": [
    "DEPLOYMENT_NAME=\"busybox\"\n",
    "\n",
    "# Instantiate the deployment object\n",
    "deployment = client.ExtensionsV1beta1Deployment(\n",
    "        api_version=\"extensions/v1beta1\",\n",
    "        kind=\"Deployment\",\n",
    "        metadata=client.V1ObjectMeta(name=DEPLOYMENT_NAME),\n",
    "        spec=spec)"
   ]
  },
  {
   "cell_type": "markdown",
   "metadata": {},
   "source": [
    "### Create Deployment using create_xxxx command for Deployments."
   ]
  },
  {
   "cell_type": "code",
   "execution_count": 14,
   "metadata": {},
   "outputs": [
    {
     "name": "stdout",
     "output_type": "stream",
     "text": [
      "Current deployments in default namespace: [\n",
      "]\n"
     ]
    }
   ],
   "source": [
    "# We can see that there are no deployments running in the current namespace before we launch our deployment\n",
    "\n",
    "## !kubectl get deploy\n",
    "\n",
    "def list_deployments():\n",
    "    print(\"Current deployments in {} namespace: [\".format( USE_NAMESPACE ))\n",
    "\n",
    "    deps = api_instance.list_namespaced_deployment(namespace=USE_NAMESPACE)\n",
    "    for item in deps.items:\n",
    "        print(\"%s  %s\" % (item.metadata.namespace, item.metadata.name))\n",
    "    print(\"]\")\n",
    "    \n",
    "list_deployments()"
   ]
  },
  {
   "cell_type": "code",
   "execution_count": 15,
   "metadata": {},
   "outputs": [
    {
     "data": {
      "text/plain": [
       "{'api_version': 'extensions/v1beta1',\n",
       " 'kind': 'Deployment',\n",
       " 'metadata': {'annotations': None,\n",
       "              'cluster_name': None,\n",
       "              'creation_timestamp': datetime.datetime(2018, 9, 26, 17, 11, 37, tzinfo=tzutc()),\n",
       "              'deletion_grace_period_seconds': None,\n",
       "              'deletion_timestamp': None,\n",
       "              'finalizers': None,\n",
       "              'generate_name': None,\n",
       "              'generation': 1,\n",
       "              'initializers': None,\n",
       "              'labels': {'app': 'busybox'},\n",
       "              'name': 'busybox',\n",
       "              'namespace': 'default',\n",
       "              'owner_references': None,\n",
       "              'resource_version': '51450',\n",
       "              'self_link': '/apis/extensions/v1beta1/namespaces/default/deployments/busybox',\n",
       "              'uid': '3a7f5f0b-c1af-11e8-b689-5ee72c0d57db'},\n",
       " 'spec': {'min_ready_seconds': None,\n",
       "          'paused': None,\n",
       "          'progress_deadline_seconds': 600,\n",
       "          'replicas': 1,\n",
       "          'revision_history_limit': 10,\n",
       "          'rollback_to': None,\n",
       "          'selector': {'match_expressions': None,\n",
       "                       'match_labels': {'app': 'busybox'}},\n",
       "          'strategy': {'rolling_update': {'max_surge': 1, 'max_unavailable': 1},\n",
       "                       'type': 'RollingUpdate'},\n",
       "          'template': {'metadata': {'annotations': None,\n",
       "                                    'cluster_name': None,\n",
       "                                    'creation_timestamp': None,\n",
       "                                    'deletion_grace_period_seconds': None,\n",
       "                                    'deletion_timestamp': None,\n",
       "                                    'finalizers': None,\n",
       "                                    'generate_name': None,\n",
       "                                    'generation': None,\n",
       "                                    'initializers': None,\n",
       "                                    'labels': {'app': 'busybox'},\n",
       "                                    'name': 'busybox',\n",
       "                                    'namespace': None,\n",
       "                                    'owner_references': None,\n",
       "                                    'resource_version': None,\n",
       "                                    'self_link': None,\n",
       "                                    'uid': None},\n",
       "                       'spec': {'active_deadline_seconds': None,\n",
       "                                'affinity': None,\n",
       "                                'automount_service_account_token': None,\n",
       "                                'containers': [{'args': ['sh',\n",
       "                                                         '-c',\n",
       "                                                         'while true; do echo '\n",
       "                                                         '$(date): Hello from '\n",
       "                                                         'Kubernetes!; sleep '\n",
       "                                                         '10; done'],\n",
       "                                                'command': None,\n",
       "                                                'env': None,\n",
       "                                                'env_from': None,\n",
       "                                                'image': 'busybox:1.26.1',\n",
       "                                                'image_pull_policy': 'IfNotPresent',\n",
       "                                                'lifecycle': None,\n",
       "                                                'liveness_probe': None,\n",
       "                                                'name': 'busybox',\n",
       "                                                'ports': None,\n",
       "                                                'readiness_probe': None,\n",
       "                                                'resources': {'limits': None,\n",
       "                                                              'requests': None},\n",
       "                                                'security_context': None,\n",
       "                                                'stdin': None,\n",
       "                                                'stdin_once': None,\n",
       "                                                'termination_message_path': '/dev/termination-log',\n",
       "                                                'termination_message_policy': 'File',\n",
       "                                                'tty': None,\n",
       "                                                'volume_devices': None,\n",
       "                                                'volume_mounts': None,\n",
       "                                                'working_dir': None}],\n",
       "                                'dns_config': None,\n",
       "                                'dns_policy': 'ClusterFirst',\n",
       "                                'host_aliases': None,\n",
       "                                'host_ipc': None,\n",
       "                                'host_network': None,\n",
       "                                'host_pid': None,\n",
       "                                'hostname': None,\n",
       "                                'image_pull_secrets': None,\n",
       "                                'init_containers': None,\n",
       "                                'node_name': None,\n",
       "                                'node_selector': None,\n",
       "                                'priority': None,\n",
       "                                'priority_class_name': None,\n",
       "                                'readiness_gates': None,\n",
       "                                'restart_policy': 'Always',\n",
       "                                'scheduler_name': 'default-scheduler',\n",
       "                                'security_context': {'fs_group': None,\n",
       "                                                     'run_as_group': None,\n",
       "                                                     'run_as_non_root': None,\n",
       "                                                     'run_as_user': None,\n",
       "                                                     'se_linux_options': None,\n",
       "                                                     'supplemental_groups': None,\n",
       "                                                     'sysctls': None},\n",
       "                                'service_account': None,\n",
       "                                'service_account_name': None,\n",
       "                                'share_process_namespace': None,\n",
       "                                'subdomain': None,\n",
       "                                'termination_grace_period_seconds': 30,\n",
       "                                'tolerations': None,\n",
       "                                'volumes': None}}},\n",
       " 'status': {'available_replicas': None,\n",
       "            'collision_count': None,\n",
       "            'conditions': None,\n",
       "            'observed_generation': None,\n",
       "            'ready_replicas': None,\n",
       "            'replicas': None,\n",
       "            'unavailable_replicas': None,\n",
       "            'updated_replicas': None}}"
      ]
     },
     "execution_count": 15,
     "metadata": {},
     "output_type": "execute_result"
    }
   ],
   "source": [
    "api_instance.create_namespaced_deployment(namespace=USE_NAMESPACE, body=deployment)"
   ]
  },
  {
   "cell_type": "code",
   "execution_count": 16,
   "metadata": {},
   "outputs": [
    {
     "name": "stdout",
     "output_type": "stream",
     "text": [
      "Current deployments in default namespace: [\n",
      "default  busybox\n",
      "]\n",
      "Current pods in default namespace: [\n",
      "default\tbusybox-5c75cb9d99-fjvjd\t10.244.3.14\n",
      "default\tjupyter\t10.244.3.10\n",
      "default\tmicrobot-4nbnh\t10.244.1.13\n",
      "default\tmicrobot-4tzr5\t10.244.1.4\n",
      "default\tmicrobot-4x2rp\t10.244.1.12\n",
      "default\tmicrobot-5q52z\t10.244.2.10\n",
      "default\tmicrobot-bf299\t10.244.1.8\n",
      "default\tmicrobot-blvx7\t10.244.2.8\n",
      "default\tmicrobot-cpz8r\t10.244.2.6\n",
      "default\tmicrobot-fmssj\t10.244.1.5\n",
      "default\tmicrobot-fvjbn\t10.244.2.3\n",
      "default\tmicrobot-gbw8p\t10.244.1.11\n",
      "default\tmicrobot-h7v5z\t10.244.2.13\n",
      "default\tmicrobot-hllg5\t10.244.2.2\n",
      "default\tmicrobot-kmrdb\t10.244.1.3\n",
      "default\tmicrobot-l6mxc\t10.244.1.9\n",
      "default\tmicrobot-lntfq\t10.244.1.6\n",
      "default\tmicrobot-mk8c8\t10.244.1.10\n",
      "default\tmicrobot-mtslx\t10.244.2.12\n",
      "default\tmicrobot-nxvrz\t10.244.2.5\n",
      "default\tmicrobot-ph7zm\t10.244.1.7\n",
      "default\tmicrobot-pp8tz\t10.244.1.14\n",
      "default\tmicrobot-qvrmp\t10.244.2.7\n",
      "default\tmicrobot-r4n95\t10.244.2.11\n",
      "default\tmicrobot-szsh5\t10.244.2.4\n",
      "default\tmicrobot-tnvnm\t10.244.2.9\n",
      "default\tmicrobot-x44fm\t10.244.1.2\n",
      "]\n",
      "Current deployments in default namespace: [\n",
      "default  busybox\n",
      "]\n"
     ]
    }
   ],
   "source": [
    "#!kubectl get all\n",
    "    \n",
    "def list_pods():\n",
    "    print(\"Current pods in {} namespace: [\".format( USE_NAMESPACE ))\n",
    "\n",
    "    pods = v1.list_namespaced_pod(namespace=USE_NAMESPACE)\n",
    "    #pods = v1.list_pod_for_all_namespaces(watch=False)\n",
    "    for item in pods.items:\n",
    "        print(\"%s\\t%s\\t%s\" %\n",
    "              (item.metadata.namespace, item.metadata.name, item.status.pod_ip))\n",
    "    print(\"]\")\n",
    "         \n",
    "def list_all():\n",
    "    list_deployments()\n",
    "    #list_replicasets()\n",
    "    list_pods()\n",
    "    \n",
    "    print(\"Current deployments in {} namespace: [\".format( USE_NAMESPACE ))\n",
    "\n",
    "    deps = api_instance.list_namespaced_deployment(namespace=USE_NAMESPACE)\n",
    "    for item in deps.items:\n",
    "        print(\"%s  %s\" % (item.metadata.namespace, item.metadata.name))\n",
    "    print(\"]\")\n",
    "    \n",
    "list_all()"
   ]
  },
  {
   "cell_type": "code",
   "execution_count": 29,
   "metadata": {},
   "outputs": [
    {
     "name": "stdout",
     "output_type": "stream",
     "text": [
      "Wed Sep 26 17:11:38 UTC 2018: Hello from Kubernetes!\n",
      "Wed Sep 26 17:11:48 UTC 2018: Hello from Kubernetes!\n",
      "Wed Sep 26 17:11:58 UTC 2018: Hello from Kubernetes!\n",
      "Wed Sep 26 17:12:08 UTC 2018: Hello from Kubernetes!\n",
      "Wed Sep 26 17:12:18 UTC 2018: Hello from Kubernetes!\n",
      "Wed Sep 26 17:12:28 UTC 2018: Hello from Kubernetes!\n",
      "Wed Sep 26 17:12:38 UTC 2018: Hello from Kubernetes!\n",
      "Wed Sep 26 17:12:48 UTC 2018: Hello from Kubernetes!\n",
      "Wed Sep 26 17:12:58 UTC 2018: Hello from Kubernetes!\n",
      "Wed Sep 26 17:13:08 UTC 2018: Hello from Kubernetes!\n",
      "Wed Sep 26 17:13:18 UTC 2018: Hello from Kubernetes!\n",
      "Wed Sep 26 17:13:28 UTC 2018: Hello from Kubernetes!\n",
      "Wed Sep 26 17:13:38 UTC 2018: Hello from Kubernetes!\n",
      "Wed Sep 26 17:13:48 UTC 2018: Hello from Kubernetes!\n",
      "Wed Sep 26 17:13:58 UTC 2018: Hello from Kubernetes!\n",
      "Wed Sep 26 17:14:08 UTC 2018: Hello from Kubernetes!\n",
      "Wed Sep 26 17:14:18 UTC 2018: Hello from Kubernetes!\n",
      "Wed Sep 26 17:14:28 UTC 2018: Hello from Kubernetes!\n",
      "read_namespaced_pod_log\n",
      "read_namespaced_pod_log_with_http_info\n"
     ]
    }
   ],
   "source": [
    "!kubectl logs pod/busybox-5c75cb9d99-fjvjd\n",
    "\n",
    "list_matching_methods(v1, 'log')\n",
    "\n",
    "#v1.read_namespaced_pod_log(name='busybox', namespace=USE_NAMESPACE)\n",
    "#?v1.read_namespaced_pod_log"
   ]
  },
  {
   "cell_type": "markdown",
   "metadata": {},
   "source": [
    "### Use list_xxxx command for Deployment, to list Deployments."
   ]
  },
  {
   "cell_type": "code",
   "execution_count": 30,
   "metadata": {},
   "outputs": [
    {
     "name": "stdout",
     "output_type": "stream",
     "text": [
      "default  busybox\n"
     ]
    }
   ],
   "source": [
    "deps = api_instance.list_namespaced_deployment(namespace=USE_NAMESPACE)\n",
    "for item in deps.items:\n",
    "    print(\"%s  %s\" % (item.metadata.namespace, item.metadata.name))"
   ]
  },
  {
   "cell_type": "markdown",
   "metadata": {},
   "source": [
    "### Use read_xxxx command for Deployment, to display the detailed state of the created Deployment resource."
   ]
  },
  {
   "cell_type": "code",
   "execution_count": 31,
   "metadata": {},
   "outputs": [
    {
     "data": {
      "text/plain": [
       "{'api_version': 'extensions/v1beta1',\n",
       " 'kind': 'Deployment',\n",
       " 'metadata': {'annotations': {'deployment.kubernetes.io/revision': '1'},\n",
       "              'cluster_name': None,\n",
       "              'creation_timestamp': datetime.datetime(2018, 9, 26, 17, 11, 37, tzinfo=tzutc()),\n",
       "              'deletion_grace_period_seconds': None,\n",
       "              'deletion_timestamp': None,\n",
       "              'finalizers': None,\n",
       "              'generate_name': None,\n",
       "              'generation': 1,\n",
       "              'initializers': None,\n",
       "              'labels': {'app': 'busybox'},\n",
       "              'name': 'busybox',\n",
       "              'namespace': 'default',\n",
       "              'owner_references': None,\n",
       "              'resource_version': '51473',\n",
       "              'self_link': '/apis/extensions/v1beta1/namespaces/default/deployments/busybox',\n",
       "              'uid': '3a7f5f0b-c1af-11e8-b689-5ee72c0d57db'},\n",
       " 'spec': {'min_ready_seconds': None,\n",
       "          'paused': None,\n",
       "          'progress_deadline_seconds': 600,\n",
       "          'replicas': 1,\n",
       "          'revision_history_limit': 10,\n",
       "          'rollback_to': None,\n",
       "          'selector': {'match_expressions': None,\n",
       "                       'match_labels': {'app': 'busybox'}},\n",
       "          'strategy': {'rolling_update': {'max_surge': 1, 'max_unavailable': 1},\n",
       "                       'type': 'RollingUpdate'},\n",
       "          'template': {'metadata': {'annotations': None,\n",
       "                                    'cluster_name': None,\n",
       "                                    'creation_timestamp': None,\n",
       "                                    'deletion_grace_period_seconds': None,\n",
       "                                    'deletion_timestamp': None,\n",
       "                                    'finalizers': None,\n",
       "                                    'generate_name': None,\n",
       "                                    'generation': None,\n",
       "                                    'initializers': None,\n",
       "                                    'labels': {'app': 'busybox'},\n",
       "                                    'name': 'busybox',\n",
       "                                    'namespace': None,\n",
       "                                    'owner_references': None,\n",
       "                                    'resource_version': None,\n",
       "                                    'self_link': None,\n",
       "                                    'uid': None},\n",
       "                       'spec': {'active_deadline_seconds': None,\n",
       "                                'affinity': None,\n",
       "                                'automount_service_account_token': None,\n",
       "                                'containers': [{'args': ['sh',\n",
       "                                                         '-c',\n",
       "                                                         'while true; do echo '\n",
       "                                                         '$(date): Hello from '\n",
       "                                                         'Kubernetes!; sleep '\n",
       "                                                         '10; done'],\n",
       "                                                'command': None,\n",
       "                                                'env': None,\n",
       "                                                'env_from': None,\n",
       "                                                'image': 'busybox:1.26.1',\n",
       "                                                'image_pull_policy': 'IfNotPresent',\n",
       "                                                'lifecycle': None,\n",
       "                                                'liveness_probe': None,\n",
       "                                                'name': 'busybox',\n",
       "                                                'ports': None,\n",
       "                                                'readiness_probe': None,\n",
       "                                                'resources': {'limits': None,\n",
       "                                                              'requests': None},\n",
       "                                                'security_context': None,\n",
       "                                                'stdin': None,\n",
       "                                                'stdin_once': None,\n",
       "                                                'termination_message_path': '/dev/termination-log',\n",
       "                                                'termination_message_policy': 'File',\n",
       "                                                'tty': None,\n",
       "                                                'volume_devices': None,\n",
       "                                                'volume_mounts': None,\n",
       "                                                'working_dir': None}],\n",
       "                                'dns_config': None,\n",
       "                                'dns_policy': 'ClusterFirst',\n",
       "                                'host_aliases': None,\n",
       "                                'host_ipc': None,\n",
       "                                'host_network': None,\n",
       "                                'host_pid': None,\n",
       "                                'hostname': None,\n",
       "                                'image_pull_secrets': None,\n",
       "                                'init_containers': None,\n",
       "                                'node_name': None,\n",
       "                                'node_selector': None,\n",
       "                                'priority': None,\n",
       "                                'priority_class_name': None,\n",
       "                                'readiness_gates': None,\n",
       "                                'restart_policy': 'Always',\n",
       "                                'scheduler_name': 'default-scheduler',\n",
       "                                'security_context': {'fs_group': None,\n",
       "                                                     'run_as_group': None,\n",
       "                                                     'run_as_non_root': None,\n",
       "                                                     'run_as_user': None,\n",
       "                                                     'se_linux_options': None,\n",
       "                                                     'supplemental_groups': None,\n",
       "                                                     'sysctls': None},\n",
       "                                'service_account': None,\n",
       "                                'service_account_name': None,\n",
       "                                'share_process_namespace': None,\n",
       "                                'subdomain': None,\n",
       "                                'termination_grace_period_seconds': 30,\n",
       "                                'tolerations': None,\n",
       "                                'volumes': None}}},\n",
       " 'status': {'available_replicas': 1,\n",
       "            'collision_count': None,\n",
       "            'conditions': [{'last_transition_time': datetime.datetime(2018, 9, 26, 17, 11, 37, tzinfo=tzutc()),\n",
       "                            'last_update_time': datetime.datetime(2018, 9, 26, 17, 11, 37, tzinfo=tzutc()),\n",
       "                            'message': 'Deployment has minimum availability.',\n",
       "                            'reason': 'MinimumReplicasAvailable',\n",
       "                            'status': 'True',\n",
       "                            'type': 'Available'},\n",
       "                           {'last_transition_time': datetime.datetime(2018, 9, 26, 17, 11, 37, tzinfo=tzutc()),\n",
       "                            'last_update_time': datetime.datetime(2018, 9, 26, 17, 11, 39, tzinfo=tzutc()),\n",
       "                            'message': 'ReplicaSet \"busybox-5c75cb9d99\" has '\n",
       "                                       'successfully progressed.',\n",
       "                            'reason': 'NewReplicaSetAvailable',\n",
       "                            'status': 'True',\n",
       "                            'type': 'Progressing'}],\n",
       "            'observed_generation': 1,\n",
       "            'ready_replicas': 1,\n",
       "            'replicas': 1,\n",
       "            'unavailable_replicas': None,\n",
       "            'updated_replicas': 1}}"
      ]
     },
     "execution_count": 31,
     "metadata": {},
     "output_type": "execute_result"
    }
   ],
   "source": [
    "api_instance.read_namespaced_deployment(namespace=USE_NAMESPACE, name=DEPLOYMENT_NAME)"
   ]
  },
  {
   "cell_type": "markdown",
   "metadata": {},
   "source": [
    "### Use patch_xxxx command for Deployment, to make specific update to the Deployment."
   ]
  },
  {
   "cell_type": "code",
   "execution_count": 33,
   "metadata": {},
   "outputs": [
    {
     "data": {
      "text/plain": [
       "{'api_version': 'extensions/v1beta1',\n",
       " 'kind': 'Deployment',\n",
       " 'metadata': {'annotations': {'deployment.kubernetes.io/revision': '1'},\n",
       "              'cluster_name': None,\n",
       "              'creation_timestamp': datetime.datetime(2018, 9, 26, 17, 11, 37, tzinfo=tzutc()),\n",
       "              'deletion_grace_period_seconds': None,\n",
       "              'deletion_timestamp': None,\n",
       "              'finalizers': None,\n",
       "              'generate_name': None,\n",
       "              'generation': 1,\n",
       "              'initializers': None,\n",
       "              'labels': {'app': 'busybox', 'key': 'value'},\n",
       "              'name': 'busybox',\n",
       "              'namespace': 'default',\n",
       "              'owner_references': None,\n",
       "              'resource_version': '51747',\n",
       "              'self_link': '/apis/extensions/v1beta1/namespaces/default/deployments/busybox',\n",
       "              'uid': '3a7f5f0b-c1af-11e8-b689-5ee72c0d57db'},\n",
       " 'spec': {'min_ready_seconds': None,\n",
       "          'paused': None,\n",
       "          'progress_deadline_seconds': 600,\n",
       "          'replicas': 1,\n",
       "          'revision_history_limit': 10,\n",
       "          'rollback_to': None,\n",
       "          'selector': {'match_expressions': None,\n",
       "                       'match_labels': {'app': 'busybox'}},\n",
       "          'strategy': {'rolling_update': {'max_surge': 1, 'max_unavailable': 1},\n",
       "                       'type': 'RollingUpdate'},\n",
       "          'template': {'metadata': {'annotations': None,\n",
       "                                    'cluster_name': None,\n",
       "                                    'creation_timestamp': None,\n",
       "                                    'deletion_grace_period_seconds': None,\n",
       "                                    'deletion_timestamp': None,\n",
       "                                    'finalizers': None,\n",
       "                                    'generate_name': None,\n",
       "                                    'generation': None,\n",
       "                                    'initializers': None,\n",
       "                                    'labels': {'app': 'busybox'},\n",
       "                                    'name': 'busybox',\n",
       "                                    'namespace': None,\n",
       "                                    'owner_references': None,\n",
       "                                    'resource_version': None,\n",
       "                                    'self_link': None,\n",
       "                                    'uid': None},\n",
       "                       'spec': {'active_deadline_seconds': None,\n",
       "                                'affinity': None,\n",
       "                                'automount_service_account_token': None,\n",
       "                                'containers': [{'args': ['sh',\n",
       "                                                         '-c',\n",
       "                                                         'while true; do echo '\n",
       "                                                         '$(date): Hello from '\n",
       "                                                         'Kubernetes!; sleep '\n",
       "                                                         '10; done'],\n",
       "                                                'command': None,\n",
       "                                                'env': None,\n",
       "                                                'env_from': None,\n",
       "                                                'image': 'busybox:1.26.1',\n",
       "                                                'image_pull_policy': 'IfNotPresent',\n",
       "                                                'lifecycle': None,\n",
       "                                                'liveness_probe': None,\n",
       "                                                'name': 'busybox',\n",
       "                                                'ports': None,\n",
       "                                                'readiness_probe': None,\n",
       "                                                'resources': {'limits': None,\n",
       "                                                              'requests': None},\n",
       "                                                'security_context': None,\n",
       "                                                'stdin': None,\n",
       "                                                'stdin_once': None,\n",
       "                                                'termination_message_path': '/dev/termination-log',\n",
       "                                                'termination_message_policy': 'File',\n",
       "                                                'tty': None,\n",
       "                                                'volume_devices': None,\n",
       "                                                'volume_mounts': None,\n",
       "                                                'working_dir': None}],\n",
       "                                'dns_config': None,\n",
       "                                'dns_policy': 'ClusterFirst',\n",
       "                                'host_aliases': None,\n",
       "                                'host_ipc': None,\n",
       "                                'host_network': None,\n",
       "                                'host_pid': None,\n",
       "                                'hostname': None,\n",
       "                                'image_pull_secrets': None,\n",
       "                                'init_containers': None,\n",
       "                                'node_name': None,\n",
       "                                'node_selector': None,\n",
       "                                'priority': None,\n",
       "                                'priority_class_name': None,\n",
       "                                'readiness_gates': None,\n",
       "                                'restart_policy': 'Always',\n",
       "                                'scheduler_name': 'default-scheduler',\n",
       "                                'security_context': {'fs_group': None,\n",
       "                                                     'run_as_group': None,\n",
       "                                                     'run_as_non_root': None,\n",
       "                                                     'run_as_user': None,\n",
       "                                                     'se_linux_options': None,\n",
       "                                                     'supplemental_groups': None,\n",
       "                                                     'sysctls': None},\n",
       "                                'service_account': None,\n",
       "                                'service_account_name': None,\n",
       "                                'share_process_namespace': None,\n",
       "                                'subdomain': None,\n",
       "                                'termination_grace_period_seconds': 30,\n",
       "                                'tolerations': None,\n",
       "                                'volumes': None}}},\n",
       " 'status': {'available_replicas': 1,\n",
       "            'collision_count': None,\n",
       "            'conditions': [{'last_transition_time': datetime.datetime(2018, 9, 26, 17, 11, 37, tzinfo=tzutc()),\n",
       "                            'last_update_time': datetime.datetime(2018, 9, 26, 17, 11, 37, tzinfo=tzutc()),\n",
       "                            'message': 'Deployment has minimum availability.',\n",
       "                            'reason': 'MinimumReplicasAvailable',\n",
       "                            'status': 'True',\n",
       "                            'type': 'Available'},\n",
       "                           {'last_transition_time': datetime.datetime(2018, 9, 26, 17, 11, 37, tzinfo=tzutc()),\n",
       "                            'last_update_time': datetime.datetime(2018, 9, 26, 17, 11, 39, tzinfo=tzutc()),\n",
       "                            'message': 'ReplicaSet \"busybox-5c75cb9d99\" has '\n",
       "                                       'successfully progressed.',\n",
       "                            'reason': 'NewReplicaSetAvailable',\n",
       "                            'status': 'True',\n",
       "                            'type': 'Progressing'}],\n",
       "            'observed_generation': 1,\n",
       "            'ready_replicas': 1,\n",
       "            'replicas': 1,\n",
       "            'unavailable_replicas': None,\n",
       "            'updated_replicas': 1}}"
      ]
     },
     "execution_count": 33,
     "metadata": {},
     "output_type": "execute_result"
    }
   ],
   "source": [
    "deployment.metadata.labels = {\"key\": \"value\"}\n",
    "api_instance.patch_namespaced_deployment(name=DEPLOYMENT_NAME, namespace=USE_NAMESPACE, body=deployment)"
   ]
  },
  {
   "cell_type": "markdown",
   "metadata": {},
   "source": [
    "### Use replace_xxxx command for Deployment, to update Deployment with a completely new version of the object."
   ]
  },
  {
   "cell_type": "code",
   "execution_count": 34,
   "metadata": {},
   "outputs": [
    {
     "data": {
      "text/plain": [
       "{'api_version': 'extensions/v1beta1',\n",
       " 'kind': 'Deployment',\n",
       " 'metadata': {'annotations': None,\n",
       "              'cluster_name': None,\n",
       "              'creation_timestamp': datetime.datetime(2018, 9, 26, 17, 11, 37, tzinfo=tzutc()),\n",
       "              'deletion_grace_period_seconds': None,\n",
       "              'deletion_timestamp': None,\n",
       "              'finalizers': None,\n",
       "              'generate_name': None,\n",
       "              'generation': 2,\n",
       "              'initializers': None,\n",
       "              'labels': {'key': 'value'},\n",
       "              'name': 'busybox',\n",
       "              'namespace': 'default',\n",
       "              'owner_references': None,\n",
       "              'resource_version': '51758',\n",
       "              'self_link': '/apis/extensions/v1beta1/namespaces/default/deployments/busybox',\n",
       "              'uid': '3a7f5f0b-c1af-11e8-b689-5ee72c0d57db'},\n",
       " 'spec': {'min_ready_seconds': None,\n",
       "          'paused': None,\n",
       "          'progress_deadline_seconds': 600,\n",
       "          'replicas': 1,\n",
       "          'revision_history_limit': 10,\n",
       "          'rollback_to': None,\n",
       "          'selector': {'match_expressions': None,\n",
       "                       'match_labels': {'app': 'busybox'}},\n",
       "          'strategy': {'rolling_update': {'max_surge': 1, 'max_unavailable': 1},\n",
       "                       'type': 'RollingUpdate'},\n",
       "          'template': {'metadata': {'annotations': None,\n",
       "                                    'cluster_name': None,\n",
       "                                    'creation_timestamp': None,\n",
       "                                    'deletion_grace_period_seconds': None,\n",
       "                                    'deletion_timestamp': None,\n",
       "                                    'finalizers': None,\n",
       "                                    'generate_name': None,\n",
       "                                    'generation': None,\n",
       "                                    'initializers': None,\n",
       "                                    'labels': {'app': 'busybox'},\n",
       "                                    'name': 'busybox',\n",
       "                                    'namespace': None,\n",
       "                                    'owner_references': None,\n",
       "                                    'resource_version': None,\n",
       "                                    'self_link': None,\n",
       "                                    'uid': None},\n",
       "                       'spec': {'active_deadline_seconds': None,\n",
       "                                'affinity': None,\n",
       "                                'automount_service_account_token': None,\n",
       "                                'containers': [{'args': ['sh',\n",
       "                                                         '-c',\n",
       "                                                         'while true; do echo '\n",
       "                                                         '$(date): Hello from '\n",
       "                                                         'Kubernetes!; sleep '\n",
       "                                                         '10; done'],\n",
       "                                                'command': None,\n",
       "                                                'env': None,\n",
       "                                                'env_from': None,\n",
       "                                                'image': 'busybox:1.26.2',\n",
       "                                                'image_pull_policy': 'IfNotPresent',\n",
       "                                                'lifecycle': None,\n",
       "                                                'liveness_probe': None,\n",
       "                                                'name': 'busybox',\n",
       "                                                'ports': None,\n",
       "                                                'readiness_probe': None,\n",
       "                                                'resources': {'limits': None,\n",
       "                                                              'requests': None},\n",
       "                                                'security_context': None,\n",
       "                                                'stdin': None,\n",
       "                                                'stdin_once': None,\n",
       "                                                'termination_message_path': '/dev/termination-log',\n",
       "                                                'termination_message_policy': 'File',\n",
       "                                                'tty': None,\n",
       "                                                'volume_devices': None,\n",
       "                                                'volume_mounts': None,\n",
       "                                                'working_dir': None}],\n",
       "                                'dns_config': None,\n",
       "                                'dns_policy': 'ClusterFirst',\n",
       "                                'host_aliases': None,\n",
       "                                'host_ipc': None,\n",
       "                                'host_network': None,\n",
       "                                'host_pid': None,\n",
       "                                'hostname': None,\n",
       "                                'image_pull_secrets': None,\n",
       "                                'init_containers': None,\n",
       "                                'node_name': None,\n",
       "                                'node_selector': None,\n",
       "                                'priority': None,\n",
       "                                'priority_class_name': None,\n",
       "                                'readiness_gates': None,\n",
       "                                'restart_policy': 'Always',\n",
       "                                'scheduler_name': 'default-scheduler',\n",
       "                                'security_context': {'fs_group': None,\n",
       "                                                     'run_as_group': None,\n",
       "                                                     'run_as_non_root': None,\n",
       "                                                     'run_as_user': None,\n",
       "                                                     'se_linux_options': None,\n",
       "                                                     'supplemental_groups': None,\n",
       "                                                     'sysctls': None},\n",
       "                                'service_account': None,\n",
       "                                'service_account_name': None,\n",
       "                                'share_process_namespace': None,\n",
       "                                'subdomain': None,\n",
       "                                'termination_grace_period_seconds': 30,\n",
       "                                'tolerations': None,\n",
       "                                'volumes': None}}},\n",
       " 'status': {'available_replicas': 1,\n",
       "            'collision_count': None,\n",
       "            'conditions': [{'last_transition_time': datetime.datetime(2018, 9, 26, 17, 11, 37, tzinfo=tzutc()),\n",
       "                            'last_update_time': datetime.datetime(2018, 9, 26, 17, 11, 37, tzinfo=tzutc()),\n",
       "                            'message': 'Deployment has minimum availability.',\n",
       "                            'reason': 'MinimumReplicasAvailable',\n",
       "                            'status': 'True',\n",
       "                            'type': 'Available'},\n",
       "                           {'last_transition_time': datetime.datetime(2018, 9, 26, 17, 11, 37, tzinfo=tzutc()),\n",
       "                            'last_update_time': datetime.datetime(2018, 9, 26, 17, 11, 39, tzinfo=tzutc()),\n",
       "                            'message': 'ReplicaSet \"busybox-5c75cb9d99\" has '\n",
       "                                       'successfully progressed.',\n",
       "                            'reason': 'NewReplicaSetAvailable',\n",
       "                            'status': 'True',\n",
       "                            'type': 'Progressing'}],\n",
       "            'observed_generation': 1,\n",
       "            'ready_replicas': 1,\n",
       "            'replicas': 1,\n",
       "            'unavailable_replicas': None,\n",
       "            'updated_replicas': 1}}"
      ]
     },
     "execution_count": 34,
     "metadata": {},
     "output_type": "execute_result"
    }
   ],
   "source": [
    "deployment.spec.template.spec.containers[0].image =CONTAINER_IMAGE_2\n",
    "api_instance.replace_namespaced_deployment(name=DEPLOYMENT_NAME, namespace=USE_NAMESPACE, body=deployment)"
   ]
  },
  {
   "cell_type": "code",
   "execution_count": 35,
   "metadata": {},
   "outputs": [
    {
     "name": "stdout",
     "output_type": "stream",
     "text": [
      "NAME      DESIRED   CURRENT   UP-TO-DATE   AVAILABLE   AGE\n",
      "busybox   1         1         1            1           3m\n"
     ]
    }
   ],
   "source": [
    "!kubectl get deploy"
   ]
  },
  {
   "cell_type": "code",
   "execution_count": 36,
   "metadata": {},
   "outputs": [
    {
     "name": "stdout",
     "output_type": "stream",
     "text": [
      "busybox\n"
     ]
    },
    {
     "name": "stderr",
     "output_type": "stream",
     "text": [
      "Error from server (NotFound): deployments.extensions \"busybox3\" not found\n"
     ]
    }
   ],
   "source": [
    "print(DEPLOYMENT_NAME)\n",
    "\n",
    "!kubectl describe deploy/busybox3"
   ]
  },
  {
   "cell_type": "markdown",
   "metadata": {},
   "source": [
    "### Use delete_xxxx command for Deployment, to delete created Deployment."
   ]
  },
  {
   "cell_type": "code",
   "execution_count": 37,
   "metadata": {},
   "outputs": [
    {
     "data": {
      "text/plain": [
       "{'api_version': 'extensions/v1beta1',\n",
       " 'code': None,\n",
       " 'details': None,\n",
       " 'kind': 'Deployment',\n",
       " 'message': None,\n",
       " 'metadata': {'_continue': None,\n",
       "              'resource_version': '51802',\n",
       "              'self_link': '/apis/extensions/v1beta1/namespaces/default/deployments/busybox'},\n",
       " 'reason': None,\n",
       " 'status': \"{'observedGeneration': 2, 'replicas': 1, 'updatedReplicas': 1, \"\n",
       "           \"'readyReplicas': 1, 'availableReplicas': 1, 'conditions': \"\n",
       "           \"[{'type': 'Available', 'status': 'True', 'lastUpdateTime': \"\n",
       "           \"'2018-09-26T17:11:37Z', 'lastTransitionTime': \"\n",
       "           \"'2018-09-26T17:11:37Z', 'reason': 'MinimumReplicasAvailable', \"\n",
       "           \"'message': 'Deployment has minimum availability.'}, {'type': \"\n",
       "           \"'Progressing', 'status': 'True', 'lastUpdateTime': \"\n",
       "           \"'2018-09-26T17:15:03Z', 'lastTransitionTime': \"\n",
       "           \"'2018-09-26T17:11:37Z', 'reason': 'NewReplicaSetAvailable', \"\n",
       "           '\\'message\\': \\'ReplicaSet \"busybox-7866994f66\" has successfully '\n",
       "           \"progressed.'}]}\"}"
      ]
     },
     "execution_count": 37,
     "metadata": {},
     "output_type": "execute_result"
    }
   ],
   "source": [
    "DEPLOYMENT_NAME='busybox'\n",
    "api_instance.delete_namespaced_deployment(name=DEPLOYMENT_NAME, namespace=USE_NAMESPACE, body=client.V1DeleteOptions(propagation_policy=\"Foreground\", grace_period_seconds=5))"
   ]
  },
  {
   "cell_type": "code",
   "execution_count": null,
   "metadata": {},
   "outputs": [],
   "source": [
    "DEPLOYMENT_NAME='busybox2'\n",
    "api_instance.delete_namespaced_deployment(name=DEPLOYMENT_NAME, namespace=USE_NAMESPACE, body=client.V1DeleteOptions(propagation_policy=\"Foreground\", grace_period_seconds=5))"
   ]
  },
  {
   "cell_type": "code",
   "execution_count": null,
   "metadata": {
    "scrolled": true
   },
   "outputs": [],
   "source": [
    "DEPLOYMENT_NAME='busybox3'\n",
    "api_instance.delete_namespaced_deployment(name=DEPLOYMENT_NAME, namespace=USE_NAMESPACE, body=client.V1DeleteOptions(propagation_policy=\"Foreground\", grace_period_seconds=5))"
   ]
  },
  {
   "cell_type": "code",
   "execution_count": 38,
   "metadata": {},
   "outputs": [
    {
     "name": "stdout",
     "output_type": "stream",
     "text": [
      "default  busybox\n"
     ]
    }
   ],
   "source": [
    "deps = api_instance.list_namespaced_deployment(namespace=USE_NAMESPACE)\n",
    "\n",
    "for item in deps.items:\n",
    "    print(\"%s  %s\" % (item.metadata.namespace, item.metadata.name))"
   ]
  },
  {
   "cell_type": "code",
   "execution_count": null,
   "metadata": {},
   "outputs": [],
   "source": []
  }
 ],
 "metadata": {
  "kernelspec": {
   "display_name": "Python 3",
   "language": "python",
   "name": "python3"
  },
  "language_info": {
   "codemirror_mode": {
    "name": "ipython",
    "version": 3
   },
   "file_extension": ".py",
   "mimetype": "text/x-python",
   "name": "python",
   "nbconvert_exporter": "python",
   "pygments_lexer": "ipython3",
   "version": "3.6.5"
  }
 },
 "nbformat": 4,
 "nbformat_minor": 2
}
